{
 "cells": [
  {
   "cell_type": "code",
   "execution_count": 3,
   "id": "initial_id",
   "metadata": {
    "collapsed": true,
    "ExecuteTime": {
     "end_time": "2024-05-13T12:50:08.712678Z",
     "start_time": "2024-05-13T12:50:08.710885Z"
    }
   },
   "outputs": [
    {
     "name": "stdout",
     "output_type": "stream",
     "text": [
      "hello world\n"
     ]
    }
   ],
   "source": [
    "print('hello world')"
   ]
  },
  {
   "cell_type": "code",
   "outputs": [],
   "source": [
    "# Lorem ipsum\n",
    "# Lorem Lorem"
   ],
   "metadata": {
    "collapsed": false,
    "ExecuteTime": {
     "end_time": "2024-05-13T12:50:08.727979Z",
     "start_time": "2024-05-13T12:50:08.726251Z"
    }
   },
   "id": "f86291940d852c41",
   "execution_count": 4
  },
  {
   "cell_type": "markdown",
   "source": [
    "## Hallo World"
   ],
   "metadata": {
    "collapsed": false
   },
   "id": "f49fb5924a77c73d"
  },
  {
   "cell_type": "code",
   "outputs": [
    {
     "name": "stdout",
     "output_type": "stream",
     "text": [
      "hello world\n"
     ]
    }
   ],
   "source": [
    "print('hello world')"
   ],
   "metadata": {
    "collapsed": false,
    "ExecuteTime": {
     "end_time": "2024-05-13T12:50:08.735475Z",
     "start_time": "2024-05-13T12:50:08.733553Z"
    }
   },
   "id": "a2ac76205e41000c",
   "execution_count": 5
  },
  {
   "cell_type": "code",
   "outputs": [],
   "source": [],
   "metadata": {
    "collapsed": false,
    "ExecuteTime": {
     "end_time": "2024-05-13T12:50:08.737944Z",
     "start_time": "2024-05-13T12:50:08.736496Z"
    }
   },
   "id": "1c3e5b249569a3f3",
   "execution_count": 5
  },
  {
   "cell_type": "markdown",
   "source": [],
   "metadata": {
    "collapsed": false
   },
   "id": "98e6a58306de46c"
  },
  {
   "cell_type": "markdown",
   "source": [
    "_haha_\n"
   ],
   "metadata": {
    "collapsed": false
   },
   "id": "c363717fe7fb6e6f"
  }
 ],
 "metadata": {
  "kernelspec": {
   "display_name": "Python 3",
   "language": "python",
   "name": "python3"
  },
  "language_info": {
   "codemirror_mode": {
    "name": "ipython",
    "version": 2
   },
   "file_extension": ".py",
   "mimetype": "text/x-python",
   "name": "python",
   "nbconvert_exporter": "python",
   "pygments_lexer": "ipython2",
   "version": "2.7.6"
  }
 },
 "nbformat": 4,
 "nbformat_minor": 5
}
